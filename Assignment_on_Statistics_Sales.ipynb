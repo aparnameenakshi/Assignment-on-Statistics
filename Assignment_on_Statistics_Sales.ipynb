{
  "nbformat": 4,
  "nbformat_minor": 0,
  "metadata": {
    "colab": {
      "provenance": []
    },
    "kernelspec": {
      "name": "python3",
      "display_name": "Python 3"
    },
    "language_info": {
      "name": "python"
    }
  },
  "cells": [
    {
      "cell_type": "code",
      "execution_count": 1,
      "metadata": {
        "colab": {
          "base_uri": "https://localhost:8080/"
        },
        "id": "kT1aMfBmtRx5",
        "outputId": "5ef4ca8d-4518-4add-c137-19aae789e280"
      },
      "outputs": [
        {
          "output_type": "stream",
          "name": "stdout",
          "text": [
            "There is no significant increase in sales after stepping into digital marketing.\n"
          ]
        }
      ],
      "source": [
        "import pandas as pd\n",
        "from scipy.stats import ttest_rel\n",
        "\n",
        "# Assuming you have a DataFrame named 'df' with columns 'Sales' and 'Marketing_Channel'\n",
        "# where 'Marketing_Channel' indicates whether the sale was made through digital marketing.\n",
        "\n",
        "# Example DataFrame creation:\n",
        "data = {'Sales': [100, 120, 90, 110, 130, 85, 95, 105],\n",
        "        'Marketing_Channel': ['Traditional', 'Digital', 'Traditional', 'Digital',\n",
        "                               'Digital', 'Traditional', 'Traditional', 'Digital']}\n",
        "\n",
        "df = pd.DataFrame(data)\n",
        "\n",
        "# Separate sales data for traditional and digital marketing channels\n",
        "sales_traditional = df[df['Marketing_Channel'] == 'Traditional']['Sales']\n",
        "sales_digital = df[df['Marketing_Channel'] == 'Digital']['Sales']\n",
        "\n",
        "# Perform a paired t-test to check for a significant difference\n",
        "t_statistic, p_value = ttest_rel(sales_traditional, sales_digital)\n",
        "\n",
        "# Check the p-value to determine statistical significance\n",
        "alpha = 0.05\n",
        "if p_value < alpha:\n",
        "    print(\"There is a significant increase in sales after stepping into digital marketing.\")\n",
        "else:\n",
        "    print(\"There is no significant increase in sales after stepping into digital marketing.\")\n"
      ]
    },
    {
      "cell_type": "code",
      "source": [
        "import pandas as pd\n",
        "from scipy.stats import chi2_contingency\n",
        "\n",
        "# Assuming you have a DataFrame named 'df' with columns 'Region' and 'Manager'\n",
        "\n",
        "# Example DataFrame creation:\n",
        "data = {'Region': ['North', 'South', 'East', 'West', 'North', 'South', 'East', 'West'],\n",
        "        'Manager': ['John', 'Sarah', 'John', 'Sarah', 'John', 'Sarah', 'John', 'Sarah']}\n",
        "\n",
        "df = pd.DataFrame(data)\n",
        "\n",
        "# Create a contingency table\n",
        "contingency_table = pd.crosstab(df['Region'], df['Manager'])\n",
        "\n",
        "# Perform a chi-squared test for independence\n",
        "chi2_stat, p_value, _, _ = chi2_contingency(contingency_table)\n",
        "\n",
        "# Check the p-value to determine statistical significance\n",
        "alpha = 0.05\n",
        "if p_value < alpha:\n",
        "    print(\"There is a significant dependency between Region and Manager.\")\n",
        "else:\n",
        "    print(\"There is no significant dependency between Region and Manager.\")\n"
      ],
      "metadata": {
        "colab": {
          "base_uri": "https://localhost:8080/"
        },
        "id": "keY60qwttedr",
        "outputId": "3ca9b68d-675e-419b-f89d-1adab80cc147"
      },
      "execution_count": 2,
      "outputs": [
        {
          "output_type": "stream",
          "name": "stdout",
          "text": [
            "There is a significant dependency between Region and Manager.\n"
          ]
        }
      ]
    }
  ]
}